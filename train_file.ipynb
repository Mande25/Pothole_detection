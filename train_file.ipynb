{
 "cells": [
  {
   "cell_type": "code",
   "execution_count": 1,
   "metadata": {},
   "outputs": [
    {
     "name": "stdout",
     "output_type": "stream",
     "text": [
      "Data split into training and testing sets.\n"
     ]
    }
   ],
   "source": [
    "import os\n",
    "from sklearn.model_selection import train_test_split\n",
    "import shutil\n",
    "\n",
    "# Set the path to your images and annotations folders\n",
    "images_folder = \"D:/New folder (6)/images\"\n",
    "annotations_folder = \"D:/New folder (6)/annotations\"\n",
    "\n",
    "# Get the list of image and annotation files\n",
    "image_files = os.listdir(images_folder)\n",
    "annotation_files = os.listdir(annotations_folder)\n",
    "\n",
    "# Split the data into training and testing sets\n",
    "# You can adjust the test_size parameter to control the split ratio\n",
    "train_images, test_images, train_annotations, test_annotations = train_test_split(\n",
    "    image_files, annotation_files, test_size=0.2, random_state=42\n",
    ")\n",
    "\n",
    "# Create folders for training and testing sets\n",
    "train_folder = \"D:/New folder (6)/Train\"\n",
    "test_folder = \"D:/New folder (6)/Test\"\n",
    "\n",
    "os.makedirs(train_folder, exist_ok=True)\n",
    "os.makedirs(test_folder, exist_ok=True)\n",
    "\n",
    "# Copy training set images and annotations to the new folders\n",
    "for image_file, annotation_file in zip(train_images, train_annotations):\n",
    "    shutil.copy(os.path.join(images_folder, image_file), os.path.join(train_folder, image_file))\n",
    "    shutil.copy(os.path.join(annotations_folder, annotation_file), os.path.join(train_folder, annotation_file))\n",
    "\n",
    "# Copy testing set images and annotations to the new folders\n",
    "for image_file, annotation_file in zip(test_images, test_annotations):\n",
    "    shutil.copy(os.path.join(images_folder, image_file), os.path.join(test_folder, image_file))\n",
    "    shutil.copy(os.path.join(annotations_folder, annotation_file), os.path.join(test_folder, annotation_file))\n",
    "\n",
    "print(\"Data split into training and testing sets.\")\n"
   ]
  },
  {
   "cell_type": "code",
   "execution_count": 3,
   "metadata": {},
   "outputs": [
    {
     "name": "stdout",
     "output_type": "stream",
     "text": [
      "Label map created and saved to D:/New folder (6)/Label_map.pbtxt.\n"
     ]
    }
   ],
   "source": [
    "# Define your class label\n",
    "class_label = \"pothole\"\n",
    "\n",
    "# Specify the path for the label map file\n",
    "label_map_file = \"D:/New folder (6)/Label_map.pbtxt\"\n",
    "\n",
    "# Write the label map to the file\n",
    "with open(label_map_file, 'w') as file:\n",
    "    file.write(\"item {\\n\")\n",
    "    file.write(f\"  id: 1\\n\")  # Use 1 as the class index for a single-class scenario\n",
    "    file.write(f\"  name: '{class_label}'\\n\")\n",
    "    file.write(\"}\\n\")\n",
    "\n",
    "print(f\"Label map created and saved to {label_map_file}.\")\n"
   ]
  },
  {
   "cell_type": "code",
   "execution_count": null,
   "metadata": {},
   "outputs": [],
   "source": []
  }
 ],
 "metadata": {
  "kernelspec": {
   "display_name": "Python 3",
   "language": "python",
   "name": "python3"
  },
  "language_info": {
   "codemirror_mode": {
    "name": "ipython",
    "version": 3
   },
   "file_extension": ".py",
   "mimetype": "text/x-python",
   "name": "python",
   "nbconvert_exporter": "python",
   "pygments_lexer": "ipython3",
   "version": "3.8.10"
  }
 },
 "nbformat": 4,
 "nbformat_minor": 2
}
